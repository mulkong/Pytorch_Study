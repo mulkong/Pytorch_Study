{
 "cells": [
  {
   "cell_type": "code",
   "execution_count": 1,
   "metadata": {},
   "outputs": [
    {
     "name": "stdout",
     "output_type": "stream",
     "text": [
      "pytorch version : 1.3.0\n"
     ]
    }
   ],
   "source": [
    "import torch\n",
    "import numpy as np\n",
    "import matplotlib.pyplot as plt\n",
    "\n",
    "print(\"pytorch version : {}\".format(torch.__version__))"
   ]
  },
  {
   "cell_type": "markdown",
   "metadata": {},
   "source": [
    "# 1. List\n",
    "### 1-1. convert ***list*** to ***torch tensor***"
   ]
  },
  {
   "cell_type": "code",
   "execution_count": 2,
   "metadata": {},
   "outputs": [
    {
     "name": "stdout",
     "output_type": "stream",
     "text": [
      "x type :  <class 'list'>\n",
      "[[1, 2, 3], [4, 5, 6]]\n"
     ]
    }
   ],
   "source": [
    "x = [[1, 2, 3], [4, 5, 6]]\n",
    "print(\"x type : \", type(x))\n",
    "print(x)"
   ]
  },
  {
   "cell_type": "code",
   "execution_count": 3,
   "metadata": {},
   "outputs": [
    {
     "name": "stdout",
     "output_type": "stream",
     "text": [
      "tensor([[1, 2, 3],\n",
      "        [4, 5, 6]], dtype=torch.int32)\n",
      "torch.Size([2, 3])\n"
     ]
    }
   ],
   "source": [
    "# x_tensor = torch.FloatTensor(x) #dtype : float32\n",
    "# x_tensor = torch.Tensor(x) #dtype : float32\n",
    "x_tensor = torch.IntTensor(x) #dtype : int32\n",
    "print(x_tensor)\n",
    "print(x_tensor.size())"
   ]
  },
  {
   "cell_type": "markdown",
   "metadata": {},
   "source": [
    "### 1-2. Create a float32 tensor of shape(3, 2), filled with 3"
   ]
  },
  {
   "cell_type": "code",
   "execution_count": 4,
   "metadata": {},
   "outputs": [
    {
     "name": "stdout",
     "output_type": "stream",
     "text": [
      "tensor([[10., 10.],\n",
      "        [10., 10.],\n",
      "        [10., 10.]])\n",
      "torch.float32\n"
     ]
    }
   ],
   "source": [
    "x = torch.FloatTensor(3, 2).fill_(10)\n",
    "print(x)\n",
    "print(x.dtype)"
   ]
  },
  {
   "cell_type": "markdown",
   "metadata": {},
   "source": [
    "### 1-3. Convert ***Tensor*** to ***List***"
   ]
  },
  {
   "cell_type": "code",
   "execution_count": 5,
   "metadata": {},
   "outputs": [
    {
     "name": "stdout",
     "output_type": "stream",
     "text": [
      "tensor([[ 1.7235,  1.0856, -0.3898],\n",
      "        [-2.2680, -0.4158, -1.0240],\n",
      "        [ 0.9287, -0.4326, -1.6315]])\n",
      "torch.Size([3, 3])\n",
      "torch.float32\n"
     ]
    }
   ],
   "source": [
    "x_tensor = torch.randn (3, 3)\n",
    "print(x_tensor)\n",
    "print(x_tensor.size())\n",
    "print(x_tensor.dtype)"
   ]
  },
  {
   "cell_type": "code",
   "execution_count": 6,
   "metadata": {},
   "outputs": [
    {
     "name": "stdout",
     "output_type": "stream",
     "text": [
      "\n",
      "=======convert tensor to list========\n",
      "\n",
      "[[1.723530650138855, 1.0855711698532104, -0.38979217410087585], [-2.26798415184021, -0.4157618582248688, -1.0239917039871216], [0.9287456274032593, -0.43257948756217957, -1.6314820051193237]]\n",
      "<class 'list'>\n",
      "3\n"
     ]
    }
   ],
   "source": [
    "print(\"\\n=======convert tensor to list========\\n\")\n",
    "\n",
    "x_list = x_tensor.tolist()\n",
    "\n",
    "print(x_list)\n",
    "print(type(x_list))\n",
    "print(len(x_list))"
   ]
  },
  {
   "cell_type": "markdown",
   "metadata": {},
   "source": [
    "# Numpy\n",
    "\n",
    "### 2-1. Convert ***Numpy array*** to ***torch tensor***"
   ]
  },
  {
   "cell_type": "code",
   "execution_count": 7,
   "metadata": {},
   "outputs": [
    {
     "name": "stdout",
     "output_type": "stream",
     "text": [
      "[[1 2 3]\n",
      " [4 5 6]\n",
      " [7 8 9]]\n",
      "(3, 3)\n",
      "\n",
      "=====Convert Numpy to tensor======\n",
      "\n",
      "tensor([[1, 2, 3],\n",
      "        [4, 5, 6],\n",
      "        [7, 8, 9]])\n",
      "torch.int64\n",
      "torch.Size([3, 3])\n"
     ]
    }
   ],
   "source": [
    "x_numpy = np.array([[1,2,3],\n",
    "                    [4,5,6],\n",
    "                    [7,8,9]])\n",
    "print(x_numpy)\n",
    "print(x_numpy.shape)\n",
    "\n",
    "print(\"\\n=====Convert Numpy to tensor======\\n\")\n",
    "\n",
    "x_tensor = torch.from_numpy(x_numpy)\n",
    "print(x_tensor)\n",
    "print(x_tensor.dtype)\n",
    "print(x_tensor.size())"
   ]
  },
  {
   "cell_type": "markdown",
   "metadata": {},
   "source": [
    "### 2-2. Convert ***Tensor*** to ***Numpy***"
   ]
  },
  {
   "cell_type": "code",
   "execution_count": 8,
   "metadata": {},
   "outputs": [
    {
     "name": "stdout",
     "output_type": "stream",
     "text": [
      "tensor([[ 0.1383, -1.7878, -2.0272],\n",
      "        [ 0.8119,  0.9957, -1.7770],\n",
      "        [-0.1743, -0.0082, -1.0029]])\n",
      "torch.Size([3, 3])\n",
      "\n",
      "=====Convert torch to Numpy=====\n",
      "\n",
      "[[ 0.13833393 -1.7877554  -2.0271626 ]\n",
      " [ 0.81189215  0.99566746 -1.7770418 ]\n",
      " [-0.17429647 -0.00817963 -1.0028696 ]]\n",
      "(3, 3)\n",
      "<class 'numpy.ndarray'>\n"
     ]
    }
   ],
   "source": [
    "x_tensor = torch.randn(3, 3)\n",
    "print(x_tensor)\n",
    "print(x_tensor.size())\n",
    "\n",
    "print(\"\\n=====Convert torch to Numpy=====\\n\")\n",
    "\n",
    "x_numpy = x_tensor.numpy()\n",
    "print(x_numpy)\n",
    "print(x_numpy.shape)\n",
    "print(type(x_numpy))"
   ]
  },
  {
   "cell_type": "markdown",
   "metadata": {},
   "source": [
    "# 3. Filled ones and zeros\n",
    "\n",
    "### 3-1. Create a 3-by3 2D Tensor with ones on the diagonal and zeros elsewhere"
   ]
  },
  {
   "cell_type": "code",
   "execution_count": 9,
   "metadata": {},
   "outputs": [
    {
     "name": "stdout",
     "output_type": "stream",
     "text": [
      "tensor([[1., 0., 0.],\n",
      "        [0., 1., 0.],\n",
      "        [0., 0., 1.]])\n",
      "torch.Size([3, 3])\n"
     ]
    }
   ],
   "source": [
    "x_tensor = torch.eye(3)\n",
    "print(x_tensor)\n",
    "print(x_tensor.size())"
   ]
  },
  {
   "cell_type": "markdown",
   "metadata": {},
   "source": [
    "### 3-2. Create a tensor with shape a (3, 2) filled with 1"
   ]
  },
  {
   "cell_type": "code",
   "execution_count": 10,
   "metadata": {},
   "outputs": [
    {
     "name": "stdout",
     "output_type": "stream",
     "text": [
      "tensor([[1., 1.],\n",
      "        [1., 1.],\n",
      "        [1., 1.]])\n",
      "torch.float32\n"
     ]
    }
   ],
   "source": [
    "x_tensor = torch.FloatTensor(3, 2).fill_(1)\n",
    "#x_tensor = torch.ones(3, 2)\n",
    "print(x_tensor)\n",
    "print(x_tensor.dtype)"
   ]
  },
  {
   "cell_type": "markdown",
   "metadata": {},
   "source": [
    "### 3-3. Create a tensor with shape a (3, 2) filled with 0"
   ]
  },
  {
   "cell_type": "code",
   "execution_count": 11,
   "metadata": {},
   "outputs": [
    {
     "name": "stdout",
     "output_type": "stream",
     "text": [
      "tensor([[0., 0.],\n",
      "        [0., 0.],\n",
      "        [0., 0.]])\n",
      "torch.float32\n"
     ]
    }
   ],
   "source": [
    "x_tensor = torch.zeros(3, 2)\n",
    "#x_tensor = torch.FloatTensor(3, 2).fill_(0)\n",
    "print(x_tensor)\n",
    "print(x_tensor.dtype)"
   ]
  }
 ],
 "metadata": {
  "kernelspec": {
   "display_name": "Python 3",
   "language": "python",
   "name": "python3"
  },
  "language_info": {
   "codemirror_mode": {
    "name": "ipython",
    "version": 3
   },
   "file_extension": ".py",
   "mimetype": "text/x-python",
   "name": "python",
   "nbconvert_exporter": "python",
   "pygments_lexer": "ipython3",
   "version": "3.7.0"
  }
 },
 "nbformat": 4,
 "nbformat_minor": 4
}
